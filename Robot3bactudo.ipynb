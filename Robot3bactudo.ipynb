{
  "nbformat": 4,
  "nbformat_minor": 0,
  "metadata": {
    "colab": {
      "name": "Robot3bactudo",
      "provenance": [],
      "collapsed_sections": [],
      "authorship_tag": "ABX9TyOc5iruszUG3h3AQVNv8KOW",
      "include_colab_link": true
    },
    "kernelspec": {
      "name": "python3",
      "display_name": "Python 3"
    },
    "language_info": {
      "name": "python"
    }
  },
  "cells": [
    {
      "cell_type": "markdown",
      "metadata": {
        "id": "view-in-github",
        "colab_type": "text"
      },
      "source": [
        "<a href=\"https://colab.research.google.com/github/HoangQuanHCMUTEK19/ANN-project/blob/main/Robot3bactudo.ipynb\" target=\"_parent\"><img src=\"https://colab.research.google.com/assets/colab-badge.svg\" alt=\"Open In Colab\"/></a>"
      ]
    },
    {
      "cell_type": "code",
      "execution_count": 223,
      "metadata": {
        "id": "TLqY6I3MfTaC"
      },
      "outputs": [],
      "source": [
        "import numpy as np\n",
        "import pandas as pd\n",
        "from keras.layers import Dense,Dropout\n",
        "from sklearn.linear_model import Perceptron\n",
        "from sklearn.model_selection import train_test_split\n",
        "from sklearn.metrics import accuracy_score\n",
        "import tensorflow as tf\n",
        "from tensorflow.keras.optimizers import Adam\n",
        "from keras.models import Sequential\n",
        "import matplotlib.pyplot as plt\n",
        "import math\n",
        "import csv\n",
        "import numpy as np"
      ]
    },
    {
      "cell_type": "code",
      "source": [
        "z=[]\n",
        "\n",
        "for a in range(0,181,1):\n",
        "  for b in range(0,181,1):\n",
        "    c = 90 - a - b\n",
        "    x=50*math.cos(math.radians(a))+40*math.cos(math.radians(a+b))+20*math.cos(math.radians(a+b+c))\n",
        "    y=50*math.sin(math.radians(a))+40*math.sin(math.radians(a+b))+20*math.sin(math.radians(a+b+c))\n",
        "    #chuan hoa du lieu ve 0 va 1\n",
        "    a = a/180\n",
        "    b = b/180\n",
        "    c = (c+180.0)/270.0\n",
        "    x = (x+110)/220\n",
        "    y = (y+110)/220\n",
        "    z.append(np.array((a,b,c,x,y)))\n",
        "\n",
        "    \n",
        "    "
      ],
      "metadata": {
        "id": "UVx7LyQflAQ2"
      },
      "execution_count": 288,
      "outputs": []
    },
    {
      "cell_type": "code",
      "source": [
        "header = ['goc1', 'goc2','goc3', 'x', 'y']\n",
        "with open('data3.csv', 'w', encoding='UTF8', newline='') as f:\n",
        "    writer = csv.writer(f)\n",
        "\n",
        "    # write the header\n",
        "    writer.writerow(header)\n",
        "\n",
        "    # write multiple rows\n",
        "    writer.writerows(z)"
      ],
      "metadata": {
        "id": "qSUFK5J7lxcU"
      },
      "execution_count": 289,
      "outputs": []
    },
    {
      "cell_type": "code",
      "source": [
        "data = pd.read_csv('data3.csv')\n",
        "numpy_dataset = data.values\n",
        "y=numpy_dataset[:,:3]\n",
        "x=numpy_dataset[:,3:]\n",
        "x_train,x_test,y_train,y_test = train_test_split(x,y,test_size=0.20)\n",
        "x_train.shape\n",
        "\n",
        "\n",
        "\n",
        "\n",
        "\n",
        "\n",
        "\n"
      ],
      "metadata": {
        "colab": {
          "base_uri": "https://localhost:8080/"
        },
        "id": "9kNArVd-w_bG",
        "outputId": "debb1ee8-5290-462e-a1e0-99f4bc935bc8"
      },
      "execution_count": 290,
      "outputs": [
        {
          "output_type": "execute_result",
          "data": {
            "text/plain": [
              "(26208, 2)"
            ]
          },
          "metadata": {},
          "execution_count": 290
        }
      ]
    },
    {
      "cell_type": "code",
      "source": [
        "model = Sequential() \n",
        "model.add(Dense(128, activation='relu', input_shape = (2,))) \n",
        "model.add(Dense(64, activation='relu'))\n",
        "model.add(Dense(32, activation='relu'))\n",
        "model.add(Dense(16, activation='relu'))\n",
        "model.add(Dense(3))"
      ],
      "metadata": {
        "id": "KMbmtF65xJgV"
      },
      "execution_count": 291,
      "outputs": []
    },
    {
      "cell_type": "code",
      "source": [
        "model.compile(loss='mae', optimizer =Adam(), metrics=['acc'])\n",
        "history = model.fit(x_train, y_train, batch_size = 32, epochs = 10, validation_split = 0.2)"
      ],
      "metadata": {
        "colab": {
          "base_uri": "https://localhost:8080/"
        },
        "id": "nGC2aJBexgKd",
        "outputId": "44d93ab0-a6b9-46ce-cdb6-a3042bdfc0be"
      },
      "execution_count": 292,
      "outputs": [
        {
          "output_type": "stream",
          "name": "stdout",
          "text": [
            "Epoch 1/10\n",
            "656/656 [==============================] - 7s 10ms/step - loss: 0.0463 - acc: 0.9116 - val_loss: 0.0100 - val_acc: 0.9928\n",
            "Epoch 2/10\n",
            "656/656 [==============================] - 5s 7ms/step - loss: 0.0094 - acc: 0.9892 - val_loss: 0.0106 - val_acc: 0.9905\n",
            "Epoch 3/10\n",
            "656/656 [==============================] - 3s 5ms/step - loss: 0.0066 - acc: 0.9925 - val_loss: 0.0105 - val_acc: 0.9901\n",
            "Epoch 4/10\n",
            "656/656 [==============================] - 4s 6ms/step - loss: 0.0062 - acc: 0.9925 - val_loss: 0.0058 - val_acc: 0.9992\n",
            "Epoch 5/10\n",
            "656/656 [==============================] - 3s 5ms/step - loss: 0.0059 - acc: 0.9928 - val_loss: 0.0055 - val_acc: 0.9918\n",
            "Epoch 6/10\n",
            "656/656 [==============================] - 4s 6ms/step - loss: 0.0054 - acc: 0.9923 - val_loss: 0.0031 - val_acc: 0.9924\n",
            "Epoch 7/10\n",
            "656/656 [==============================] - 5s 7ms/step - loss: 0.0049 - acc: 0.9946 - val_loss: 0.0051 - val_acc: 0.9918\n",
            "Epoch 8/10\n",
            "656/656 [==============================] - 4s 6ms/step - loss: 0.0050 - acc: 0.9940 - val_loss: 0.0030 - val_acc: 0.9924\n",
            "Epoch 9/10\n",
            "656/656 [==============================] - 4s 6ms/step - loss: 0.0046 - acc: 0.9952 - val_loss: 0.0049 - val_acc: 0.9998\n",
            "Epoch 10/10\n",
            "656/656 [==============================] - 4s 6ms/step - loss: 0.0053 - acc: 0.9934 - val_loss: 0.0075 - val_acc: 0.9941\n"
          ]
        }
      ]
    },
    {
      "cell_type": "code",
      "source": [
        "plt.plot(history.history['acc'])\n",
        "plt.plot(history.history['val_acc'])\n",
        "plt.title('model accuracy')\n",
        "plt.ylabel('accuracy')\n",
        "plt.xlabel('epoch')\n",
        "plt.show()"
      ],
      "metadata": {
        "colab": {
          "base_uri": "https://localhost:8080/",
          "height": 295
        },
        "id": "imrPIFVJ2XLQ",
        "outputId": "af1a2d7c-3215-4646-dddf-24480f098c3f"
      },
      "execution_count": 293,
      "outputs": [
        {
          "output_type": "display_data",
          "data": {
            "text/plain": [
              "<Figure size 432x288 with 1 Axes>"
            ],
            "image/png": "[encoded data removed]"
          },
          "metadata": {
            "needs_background": "light"
          }
        }
      ]
    },
    {
      "cell_type": "code",
      "source": [
        "score = model.evaluate(x_test,y_test,verbose = 0)\n",
        "print('Sai so kiem tra la:',score[0])\n",
        "print('Do chinh xac kiem tra', score[1])"
      ],
      "metadata": {
        "colab": {
          "base_uri": "https://localhost:8080/"
        },
        "id": "2M9N6Ayv284h",
        "outputId": "d9e81ae0-47d8-43b0-d33d-2995ada13a74"
      },
      "execution_count": 294,
      "outputs": [
        {
          "output_type": "stream",
          "name": "stdout",
          "text": [
            "Sai so kiem tra la: 0.007834047079086304\n",
            "Do chinh xac kiem tra 0.9952693581581116\n"
          ]
        }
      ]
    },
    {
      "cell_type": "code",
      "source": [
        "Px = (40+110)/220\n",
        "Py = (50+110)/220\n",
        "test = model.predict([[Px,Py]])\n",
        "t1 = test[0][0]*180\n",
        "t2 = test[0][1]*180\n",
        "t3 =  test[0][2]*270.0-180.0\n",
        "x_1=50*math.cos(math.radians(t1))+40*math.cos(math.radians(t1+t2))+20*math.cos(math.radians(t1+t2+t3))\n",
        "y_1=50*math.sin(math.radians(t1))+40*math.sin(math.radians(t1+t2))+20*math.sin(math.radians(t1+t2+t3)) \n",
        "print('x = ',x_1,'y = ',y_1)\n",
        "print(t1,t2,t3)"
      ],
      "metadata": {
        "colab": {
          "base_uri": "https://localhost:8080/"
        },
        "id": "x--QIj5I2-mI",
        "outputId": "42c04def-c3b6-4243-be38-da1acc2e9ddb"
      },
      "execution_count": 296,
      "outputs": [
        {
          "output_type": "stream",
          "name": "stdout",
          "text": [
            "x =  44.67666939962811 y =  58.744805259537074\n",
            "-0.18551766872406006 102.16102838516235 -20.534858107566833\n"
          ]
        }
      ]
    }
  ]
}