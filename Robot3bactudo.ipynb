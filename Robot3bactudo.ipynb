{
  "nbformat": 4,
  "nbformat_minor": 0,
  "metadata": {
    "colab": {
      "name": "Robot3bactudo",
      "provenance": [],
      "collapsed_sections": [],
      "authorship_tag": "ABX9TyNq2sMur7goye+NqfHo+Wfj",
      "include_colab_link": true
    },
    "kernelspec": {
      "name": "python3",
      "display_name": "Python 3"
    },
    "language_info": {
      "name": "python"
    }
  },
  "cells": [
    {
      "cell_type": "markdown",
      "metadata": {
        "id": "view-in-github",
        "colab_type": "text"
      },
      "source": [
        "<a href=\"https://colab.research.google.com/github/HoangQuanHCMUTEK19/ANN-project/blob/main/Robot3bactudo.ipynb\" target=\"_parent\"><img src=\"https://colab.research.google.com/assets/colab-badge.svg\" alt=\"Open In Colab\"/></a>"
      ]
    },
    {
      "cell_type": "code",
      "execution_count": 74,
      "metadata": {
        "id": "TLqY6I3MfTaC"
      },
      "outputs": [],
      "source": [
        "import numpy as np\n",
        "import pandas as pd\n",
        "from keras.layers import Dense,Dropout\n",
        "from sklearn.linear_model import Perceptron\n",
        "from sklearn.model_selection import train_test_split\n",
        "from sklearn.metrics import accuracy_score\n",
        "import tensorflow as tf\n",
        "from tensorflow.keras.optimizers import Adam\n",
        "from keras.models import Sequential\n",
        "import matplotlib.pyplot as plt\n",
        "import math\n",
        "import csv\n",
        "import numpy as np"
      ]
    },
    {
      "cell_type": "code",
      "source": [
        "z=[]\n",
        "\n",
        "for a in range(0,180,1):\n",
        "  for b in range(0,180,1):\n",
        "    c = 90.0 - a - b\n",
        "    x=50*math.cos(math.radians(a))+40*math.cos(math.radians(a+b))+20*math.cos(math.radians(a+b+c))\n",
        "    y=50*math.sin(math.radians(a))+40*math.sin(math.radians(a+b))+20*math.sin(math.radians(a+b+c))\n",
        "    #chuan hoa du lieu ve 0 va 1\n",
        "    a = a/180\n",
        "    b = b/180\n",
        "    c = (c+180)/360\n",
        "    x = (x+110)/220\n",
        "    y = (y+110)/220\n",
        "    z.append(np.array((a,b,c,x,y)))\n",
        "\n",
        "    \n",
        "    "
      ],
      "metadata": {
        "id": "UVx7LyQflAQ2"
      },
      "execution_count": 76,
      "outputs": []
    },
    {
      "cell_type": "code",
      "source": [
        "header = ['goc1', 'goc2','goc3', 'x', 'y']\n",
        "with open('data3.csv', 'w', encoding='UTF8', newline='') as f:\n",
        "    writer = csv.writer(f)\n",
        "\n",
        "    # write the header\n",
        "    writer.writerow(header)\n",
        "\n",
        "    # write multiple rows\n",
        "    writer.writerows(z)"
      ],
      "metadata": {
        "id": "qSUFK5J7lxcU"
      },
      "execution_count": 77,
      "outputs": []
    },
    {
      "cell_type": "code",
      "source": [
        "data = pd.read_csv('data3.csv')\n",
        "numpy_dataset = data.values\n",
        "y=numpy_dataset[:,:3]\n",
        "x=numpy_dataset[:,3:]\n",
        "x_train,x_test,y_train,y_test = train_test_split(x,y,test_size=0.20)\n",
        "x_train.shape"
      ],
      "metadata": {
        "colab": {
          "base_uri": "https://localhost:8080/"
        },
        "id": "9kNArVd-w_bG",
        "outputId": "dbf9f872-fc26-4f01-b815-0c82dc22bfa7"
      },
      "execution_count": 78,
      "outputs": [
        {
          "output_type": "execute_result",
          "data": {
            "text/plain": [
              "(25920, 2)"
            ]
          },
          "metadata": {},
          "execution_count": 78
        }
      ]
    },
    {
      "cell_type": "code",
      "source": [
        "model = Sequential() \n",
        "model.add(Dense(64, activation='relu', input_shape = (2,))) \n",
        "model.add(Dense(32, activation='relu'))\n",
        "model.add(Dense(16, activation='relu'))\n",
        "\n",
        "model.add(Dense(3))"
      ],
      "metadata": {
        "id": "KMbmtF65xJgV"
      },
      "execution_count": 79,
      "outputs": []
    },
    {
      "cell_type": "code",
      "source": [
        "model.compile(loss='mae', optimizer =Adam(), metrics=['acc'])\n",
        "history = model.fit(x_train, y_train, batch_size = 32, epochs = 10, validation_split = 0.2)"
      ],
      "metadata": {
        "colab": {
          "base_uri": "https://localhost:8080/"
        },
        "id": "nGC2aJBexgKd",
        "outputId": "08232136-03ff-43b3-e6de-a8972edffba2"
      },
      "execution_count": 80,
      "outputs": [
        {
          "output_type": "stream",
          "name": "stdout",
          "text": [
            "Epoch 1/10\n",
            "648/648 [==============================] - 2s 3ms/step - loss: 0.0636 - acc: 0.8874 - val_loss: 0.0198 - val_acc: 0.9925\n",
            "Epoch 2/10\n",
            "648/648 [==============================] - 1s 2ms/step - loss: 0.0121 - acc: 0.9883 - val_loss: 0.0072 - val_acc: 0.9894\n",
            "Epoch 3/10\n",
            "648/648 [==============================] - 1s 2ms/step - loss: 0.0059 - acc: 0.9914 - val_loss: 0.0040 - val_acc: 0.9956\n",
            "Epoch 4/10\n",
            "648/648 [==============================] - 2s 2ms/step - loss: 0.0049 - acc: 0.9925 - val_loss: 0.0030 - val_acc: 0.9956\n",
            "Epoch 5/10\n",
            "648/648 [==============================] - 1s 2ms/step - loss: 0.0043 - acc: 0.9936 - val_loss: 0.0027 - val_acc: 1.0000\n",
            "Epoch 6/10\n",
            "648/648 [==============================] - 1s 2ms/step - loss: 0.0040 - acc: 0.9935 - val_loss: 0.0025 - val_acc: 0.9956\n",
            "Epoch 7/10\n",
            "648/648 [==============================] - 1s 2ms/step - loss: 0.0035 - acc: 0.9944 - val_loss: 0.0057 - val_acc: 0.9844\n",
            "Epoch 8/10\n",
            "648/648 [==============================] - 1s 2ms/step - loss: 0.0033 - acc: 0.9939 - val_loss: 0.0024 - val_acc: 1.0000\n",
            "Epoch 9/10\n",
            "648/648 [==============================] - 2s 2ms/step - loss: 0.0034 - acc: 0.9938 - val_loss: 0.0052 - val_acc: 0.9894\n",
            "Epoch 10/10\n",
            "648/648 [==============================] - 2s 2ms/step - loss: 0.0033 - acc: 0.9943 - val_loss: 0.0020 - val_acc: 0.9956\n"
          ]
        }
      ]
    },
    {
      "cell_type": "code",
      "source": [
        "plt.plot(history.history['acc'])\n",
        "plt.plot(history.history['val_acc'])\n",
        "plt.title('model accuracy')\n",
        "plt.ylabel('accuracy')\n",
        "plt.xlabel('epoch')\n",
        "plt.legend(['train','validation'])\n",
        "plt.show()"
      ],
      "metadata": {
        "colab": {
          "base_uri": "https://localhost:8080/",
          "height": 295
        },
        "id": "imrPIFVJ2XLQ",
        "outputId": "1a7cbd9f-4a6a-4f22-d955-d8dc34ddb9ce"
      },
      "execution_count": 81,
      "outputs": [
        {
          "output_type": "display_data",
          "data": {
            "text/plain": [
              "<Figure size 432x288 with 1 Axes>"
            ],
            "image/png": "[encoded data removed]"
          },
          "metadata": {
            "needs_background": "light"
          }
        }
      ]
    },
    {
      "cell_type": "code",
      "source": [
        "score = model.evaluate(x_test,y_test,verbose = 0)\n",
        "print('Sai so kiem tra la:',score[0])\n",
        "print('Do chinh xac kiem tra', score[1])"
      ],
      "metadata": {
        "colab": {
          "base_uri": "https://localhost:8080/"
        },
        "id": "2M9N6Ayv284h",
        "outputId": "9bfa039f-2253-4838-ea60-43a8a7fce690"
      },
      "execution_count": 82,
      "outputs": [
        {
          "output_type": "stream",
          "name": "stdout",
          "text": [
            "Sai so kiem tra la: 0.002074935007840395\n",
            "Do chinh xac kiem tra 0.9947530627250671\n"
          ]
        }
      ]
    },
    {
      "cell_type": "code",
      "source": [
        "Px = (90+110)/220\n",
        "Py = (20+110)/220\n",
        "test = model.predict([[Px,Py]])\n",
        "t1 = test[0][0]*180\n",
        "t2 = test[0][1]*180\n",
        "t3 =  test[0][2]*360-180\n",
        "x_1=50*math.cos(math.radians(t1))+40*math.cos(math.radians(t1+t2))+20*math.cos(math.radians(t1+t2+t3))\n",
        "y_1=50*math.sin(math.radians(t1))+40*math.sin(math.radians(t1+t2))+20*math.sin(math.radians(t1+t2+t3)) \n",
        "print('x = ',x_1,'y = ',y_1)\n",
        "print(t1,t2,t3)"
      ],
      "metadata": {
        "colab": {
          "base_uri": "https://localhost:8080/"
        },
        "id": "x--QIj5I2-mI",
        "outputId": "c2e1d038-4ad0-42c6-ba93-be05921677f0"
      },
      "execution_count": 88,
      "outputs": [
        {
          "output_type": "stream",
          "name": "stdout",
          "text": [
            "x =  90.56443175088872 y =  22.08170707971978\n",
            "-0.03524468746036291 3.0763569474220276 85.18022060394287\n"
          ]
        }
      ]
    }
  ]
}