{
  "nbformat": 4,
  "nbformat_minor": 0,
  "metadata": {
    "colab": {
      "name": "Robot3bactudo",
      "provenance": [],
      "collapsed_sections": [],
      "authorship_tag": "ABX9TyPowirMjz9zG4XbTPqDGBxz",
      "include_colab_link": true
    },
    "kernelspec": {
      "name": "python3",
      "display_name": "Python 3"
    },
    "language_info": {
      "name": "python"
    }
  },
  "cells": [
    {
      "cell_type": "markdown",
      "metadata": {
        "id": "view-in-github",
        "colab_type": "text"
      },
      "source": [
        "<a href=\"https://colab.research.google.com/github/HoangQuanHCMUTEK19/ANN-project/blob/main/Robot3bactudo.ipynb\" target=\"_parent\"><img src=\"https://colab.research.google.com/assets/colab-badge.svg\" alt=\"Open In Colab\"/></a>"
      ]
    },
    {
      "cell_type": "code",
      "execution_count": 297,
      "metadata": {
        "id": "TLqY6I3MfTaC"
      },
      "outputs": [],
      "source": [
        "import numpy as np\n",
        "import pandas as pd\n",
        "from keras.layers import Dense,Dropout\n",
        "from sklearn.linear_model import Perceptron\n",
        "from sklearn.model_selection import train_test_split\n",
        "from sklearn.metrics import accuracy_score\n",
        "import tensorflow as tf\n",
        "from tensorflow.keras.optimizers import Adam\n",
        "from keras.models import Sequential\n",
        "import matplotlib.pyplot as plt\n",
        "import math\n",
        "import csv\n",
        "import numpy as np"
      ]
    },
    {
      "cell_type": "code",
      "source": [
        "z=[]\n",
        "\n",
        "for a in range(0,181,1):\n",
        "  for b in range(0,181,1):\n",
        "    c = 90 - a - b\n",
        "    x=50*math.cos(math.radians(a))+40*math.cos(math.radians(a+b))+20*math.cos(math.radians(a+b+c))\n",
        "    y=50*math.sin(math.radians(a))+40*math.sin(math.radians(a+b))+20*math.sin(math.radians(a+b+c))\n",
        "    #chuan hoa du lieu ve 0 va 1\n",
        "    a = a/180\n",
        "    b = b/180\n",
        "    c = (c+180.0)/270.0\n",
        "    x = (x+110)/220\n",
        "    y = (y+110)/220\n",
        "    z.append(np.array((a,b,c,x,y)))\n",
        "\n",
        "    \n",
        "    "
      ],
      "metadata": {
        "id": "UVx7LyQflAQ2"
      },
      "execution_count": 298,
      "outputs": []
    },
    {
      "cell_type": "code",
      "source": [
        "header = ['goc1', 'goc2','goc3', 'x', 'y']\n",
        "with open('data3.csv', 'w', encoding='UTF8', newline='') as f:\n",
        "    writer = csv.writer(f)\n",
        "\n",
        "    # write the header\n",
        "    writer.writerow(header)\n",
        "\n",
        "    # write multiple rows\n",
        "    writer.writerows(z)"
      ],
      "metadata": {
        "id": "qSUFK5J7lxcU"
      },
      "execution_count": 299,
      "outputs": []
    },
    {
      "cell_type": "code",
      "source": [
        "data = pd.read_csv('data3.csv')\n",
        "numpy_dataset = data.values\n",
        "y=numpy_dataset[:,:3]\n",
        "x=numpy_dataset[:,3:]\n",
        "x_train,x_test,y_train,y_test = train_test_split(x,y,test_size=0.20)\n",
        "x_train.shape\n",
        "\n",
        "\n",
        "\n",
        "\n",
        "\n",
        "\n",
        "\n"
      ],
      "metadata": {
        "colab": {
          "base_uri": "https://localhost:8080/"
        },
        "id": "9kNArVd-w_bG",
        "outputId": "ce378064-a392-42ca-e34f-62bcaacfb4fe"
      },
      "execution_count": 300,
      "outputs": [
        {
          "output_type": "execute_result",
          "data": {
            "text/plain": [
              "(26208, 2)"
            ]
          },
          "metadata": {},
          "execution_count": 300
        }
      ]
    },
    {
      "cell_type": "code",
      "source": [
        "model = Sequential() \n",
        "model.add(Dense(128, activation='relu', input_shape = (2,))) \n",
        "model.add(Dense(64, activation='relu'))\n",
        "model.add(Dense(32, activation='relu'))\n",
        "model.add(Dense(16, activation='relu'))\n",
        "model.add(Dense(3))"
      ],
      "metadata": {
        "id": "KMbmtF65xJgV"
      },
      "execution_count": 301,
      "outputs": []
    },
    {
      "cell_type": "code",
      "source": [
        "model.compile(loss='mae', optimizer =Adam(), metrics=['acc'])\n",
        "history = model.fit(x_train, y_train, batch_size = 32, epochs = 10, validation_split = 0.2)"
      ],
      "metadata": {
        "colab": {
          "base_uri": "https://localhost:8080/"
        },
        "id": "nGC2aJBexgKd",
        "outputId": "90cb0902-6b57-4ccc-bc22-e7fd03a27a5b"
      },
      "execution_count": 302,
      "outputs": [
        {
          "output_type": "stream",
          "name": "stdout",
          "text": [
            "Epoch 1/10\n",
            "656/656 [==============================] - 3s 3ms/step - loss: 0.0861 - acc: 0.7911 - val_loss: 0.0178 - val_acc: 0.9878\n",
            "Epoch 2/10\n",
            "656/656 [==============================] - 2s 3ms/step - loss: 0.0107 - acc: 0.9907 - val_loss: 0.0092 - val_acc: 0.9884\n",
            "Epoch 3/10\n",
            "656/656 [==============================] - 3s 4ms/step - loss: 0.0063 - acc: 0.9937 - val_loss: 0.0077 - val_acc: 0.9824\n",
            "Epoch 4/10\n",
            "656/656 [==============================] - 2s 4ms/step - loss: 0.0055 - acc: 0.9938 - val_loss: 0.0064 - val_acc: 0.9886\n",
            "Epoch 5/10\n",
            "656/656 [==============================] - 3s 5ms/step - loss: 0.0050 - acc: 0.9948 - val_loss: 0.0099 - val_acc: 0.9895\n",
            "Epoch 6/10\n",
            "656/656 [==============================] - 2s 4ms/step - loss: 0.0051 - acc: 0.9941 - val_loss: 0.0084 - val_acc: 0.9884\n",
            "Epoch 7/10\n",
            "656/656 [==============================] - 2s 4ms/step - loss: 0.0049 - acc: 0.9942 - val_loss: 0.0022 - val_acc: 1.0000\n",
            "Epoch 8/10\n",
            "656/656 [==============================] - 4s 5ms/step - loss: 0.0048 - acc: 0.9943 - val_loss: 0.0121 - val_acc: 0.9895\n",
            "Epoch 9/10\n",
            "656/656 [==============================] - 4s 6ms/step - loss: 0.0043 - acc: 0.9949 - val_loss: 0.0056 - val_acc: 0.9886\n",
            "Epoch 10/10\n",
            "656/656 [==============================] - 4s 6ms/step - loss: 0.0046 - acc: 0.9942 - val_loss: 0.0032 - val_acc: 0.9948\n"
          ]
        }
      ]
    },
    {
      "cell_type": "code",
      "source": [
        "plt.plot(history.history['acc'])\n",
        "plt.plot(history.history['val_acc'])\n",
        "plt.title('model accuracy')\n",
        "plt.ylabel('accuracy')\n",
        "plt.xlabel('epoch')\n",
        "plt.legend(['train','validation'])\n",
        "plt.show()"
      ],
      "metadata": {
        "colab": {
          "base_uri": "https://localhost:8080/",
          "height": 295
        },
        "id": "imrPIFVJ2XLQ",
        "outputId": "729e679d-895e-4416-9033-fb212244979c"
      },
      "execution_count": 306,
      "outputs": [
        {
          "output_type": "display_data",
          "data": {
            "text/plain": [
              "<Figure size 432x288 with 1 Axes>"
            ],
            "image/png": "[encoded data removed]"
          },
          "metadata": {
            "needs_background": "light"
          }
        }
      ]
    },
    {
      "cell_type": "code",
      "source": [
        "score = model.evaluate(x_test,y_test,verbose = 0)\n",
        "print('Sai so kiem tra la:',score[0])\n",
        "print('Do chinh xac kiem tra', score[1])"
      ],
      "metadata": {
        "colab": {
          "base_uri": "https://localhost:8080/"
        },
        "id": "2M9N6Ayv284h",
        "outputId": "c1ec552a-a22c-4130-b05b-e4b447d786fc"
      },
      "execution_count": 304,
      "outputs": [
        {
          "output_type": "stream",
          "name": "stdout",
          "text": [
            "Sai so kiem tra la: 0.0030809722375124693\n",
            "Do chinh xac kiem tra 0.9955745339393616\n"
          ]
        }
      ]
    },
    {
      "cell_type": "code",
      "source": [
        "Px = (40+110)/220\n",
        "Py = (50+110)/220\n",
        "test = model.predict([[Px,Py]])\n",
        "t1 = test[0][0]*180\n",
        "t2 = test[0][1]*180\n",
        "t3 =  test[0][2]*270.0-180.0\n",
        "x_1=50*math.cos(math.radians(t1))+40*math.cos(math.radians(t1+t2))+20*math.cos(math.radians(t1+t2+t3))\n",
        "y_1=50*math.sin(math.radians(t1))+40*math.sin(math.radians(t1+t2))+20*math.sin(math.radians(t1+t2+t3)) \n",
        "print('x = ',x_1,'y = ',y_1)\n",
        "print(t1,t2,t3)"
      ],
      "metadata": {
        "colab": {
          "base_uri": "https://localhost:8080/"
        },
        "id": "x--QIj5I2-mI",
        "outputId": "8838e695-c4d3-4813-87b0-6cbfa8929efe"
      },
      "execution_count": 305,
      "outputs": [
        {
          "output_type": "stream",
          "name": "stdout",
          "text": [
            "x =  42.106504646149354 y =  59.61672585450384\n",
            "0.7880115509033203 102.28814363479614 -16.404250860214233\n"
          ]
        }
      ]
    }
  ]
}