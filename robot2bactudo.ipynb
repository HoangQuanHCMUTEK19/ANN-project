{
  "nbformat": 4,
  "nbformat_minor": 0,
  "metadata": {
    "colab": {
      "name": "robot2bactudo.ipynb",
      "provenance": [],
      "collapsed_sections": [],
      "authorship_tag": "ABX9TyMBoSwHKRJEI278INT6ydLp",
      "include_colab_link": true
    },
    "kernelspec": {
      "name": "python3",
      "display_name": "Python 3"
    },
    "language_info": {
      "name": "python"
    }
  },
  "cells": [
    {
      "cell_type": "markdown",
      "metadata": {
        "id": "view-in-github",
        "colab_type": "text"
      },
      "source": [
        "<a href=\"https://colab.research.google.com/github/HoangQuanHCMUTEK19/ANN-project/blob/main/robot2bactudo.ipynb\" target=\"_parent\"><img src=\"https://colab.research.google.com/assets/colab-badge.svg\" alt=\"Open In Colab\"/></a>"
      ]
    },
    {
      "cell_type": "code",
      "execution_count": null,
      "metadata": {
        "id": "YtfieYYfefH1"
      },
      "outputs": [],
      "source": [
        "import numpy as np\n",
        "import pandas as pd\n",
        "from keras.layers import Dense,Dropout\n",
        "from sklearn.linear_model import Perceptron\n",
        "from sklearn.model_selection import train_test_split\n",
        "from sklearn.metrics import accuracy_score\n",
        "import tensorflow as tf\n",
        "from tensorflow.keras.optimizers import Adam\n",
        "from keras.models import Sequential\n",
        "import matplotlib.pyplot as plt\n",
        "import math\n",
        "import csv\n",
        "import numpy as np"
      ]
    },
    {
      "cell_type": "code",
      "source": [
        "z=[]\n",
        "for a in range(0,180,1):\n",
        "  for b in range(0,180,1):\n",
        "    x=50*math.cos(math.radians(a))+40*math.cos(math.radians(a+b))\n",
        "    y=50*math.sin(math.radians(a))+40*math.sin(math.radians(a+b))\n",
        "    z.append(np.array((a,b,x,y)))"
      ],
      "metadata": {
        "id": "TIntS4Y0fYX1"
      },
      "execution_count": null,
      "outputs": []
    },
    {
      "cell_type": "code",
      "source": [
        "header = ['goc1', 'goc2', 'x', 'y']\n",
        "\n",
        "with open('data.csv', 'w', encoding='UTF8', newline='') as f:\n",
        "    writer = csv.writer(f)\n",
        "\n",
        "    # write the header\n",
        "    writer.writerow(header)\n",
        "\n",
        "    # write multiple rows\n",
        "    writer.writerows(z)\n"
      ],
      "metadata": {
        "id": "cYIc9fe4fn1E"
      },
      "execution_count": null,
      "outputs": []
    },
    {
      "cell_type": "code",
      "source": [
        "data = pd.read_csv('data.csv')\n",
        "print(data.shape)\n",
        "numpy_dataset = data.values\n",
        "y=numpy_dataset[:,:2]/180\n",
        "x=(numpy_dataset[:,2:]+90)/180\n",
        "x_train,x_test,y_train,y_test = train_test_split(x,y,test_size=0.20)\n"
      ],
      "metadata": {
        "colab": {
          "base_uri": "https://localhost:8080/"
        },
        "id": "lAK2dslFkkMY",
        "outputId": "2f291a46-575d-4c43-de18-2becb96bb84e"
      },
      "execution_count": null,
      "outputs": [
        {
          "output_type": "stream",
          "name": "stdout",
          "text": [
            "(32400, 4)\n"
          ]
        }
      ]
    },
    {
      "cell_type": "code",
      "source": [
        "model = Sequential() \n",
        "model.add(Dense(128, activation='relu', input_shape = (2,))) \n",
        "model.add(Dense(64, activation='relu'))\n",
        "model.add(Dense(32, activation='relu'))\n",
        "model.add(Dense(32, activation='relu'))\n",
        "model.add(Dense(2))\n",
        "model.summary() \n"
      ],
      "metadata": {
        "id": "zWj5DuyHklOf",
        "colab": {
          "base_uri": "https://localhost:8080/"
        },
        "outputId": "afe26d63-1289-43dd-e13e-95116396fe91"
      },
      "execution_count": null,
      "outputs": [
        {
          "output_type": "stream",
          "name": "stdout",
          "text": [
            "Model: \"sequential_2\"\n",
            "_________________________________________________________________\n",
            " Layer (type)                Output Shape              Param #   \n",
            "=================================================================\n",
            " dense_10 (Dense)            (None, 128)               384       \n",
            "                                                                 \n",
            " dense_11 (Dense)            (None, 64)                8256      \n",
            "                                                                 \n",
            " dense_12 (Dense)            (None, 32)                2080      \n",
            "                                                                 \n",
            " dense_13 (Dense)            (None, 32)                1056      \n",
            "                                                                 \n",
            " dense_14 (Dense)            (None, 2)                 66        \n",
            "                                                                 \n",
            "=================================================================\n",
            "Total params: 11,842\n",
            "Trainable params: 11,842\n",
            "Non-trainable params: 0\n",
            "_________________________________________________________________\n"
          ]
        }
      ]
    },
    {
      "cell_type": "code",
      "source": [
        "model.compile(loss='mse', optimizer =Adam(), metrics=['acc'])\n",
        "history = model.fit(x_train, y_train, batch_size = 64, epochs = 30, validation_split = 0.2)"
      ],
      "metadata": {
        "colab": {
          "base_uri": "https://localhost:8080/"
        },
        "id": "Xr8mFg8tumiI",
        "outputId": "96b50088-6831-4fcc-fa71-845431b2845e"
      },
      "execution_count": null,
      "outputs": [
        {
          "output_type": "stream",
          "name": "stdout",
          "text": [
            "Epoch 1/30\n",
            "324/324 [==============================] - 2s 3ms/step - loss: 0.0286 - acc: 0.8451 - val_loss: 0.0019 - val_acc: 0.9524\n",
            "Epoch 2/30\n",
            "324/324 [==============================] - 1s 3ms/step - loss: 0.0012 - acc: 0.9539 - val_loss: 8.0624e-04 - val_acc: 0.9659\n",
            "Epoch 3/30\n",
            "324/324 [==============================] - 1s 3ms/step - loss: 7.9023e-04 - acc: 0.9636 - val_loss: 0.0010 - val_acc: 0.9616\n",
            "Epoch 4/30\n",
            "324/324 [==============================] - 1s 3ms/step - loss: 6.3917e-04 - acc: 0.9661 - val_loss: 4.6794e-04 - val_acc: 0.9734\n",
            "Epoch 5/30\n",
            "324/324 [==============================] - 1s 3ms/step - loss: 4.6180e-04 - acc: 0.9725 - val_loss: 3.9396e-04 - val_acc: 0.9722\n",
            "Epoch 6/30\n",
            "324/324 [==============================] - 1s 3ms/step - loss: 4.1888e-04 - acc: 0.9728 - val_loss: 0.0011 - val_acc: 0.9566\n",
            "Epoch 7/30\n",
            "324/324 [==============================] - 1s 3ms/step - loss: 3.3746e-04 - acc: 0.9768 - val_loss: 3.1583e-04 - val_acc: 0.9715\n",
            "Epoch 8/30\n",
            "324/324 [==============================] - 1s 3ms/step - loss: 2.9230e-04 - acc: 0.9792 - val_loss: 2.2954e-04 - val_acc: 0.9861\n",
            "Epoch 9/30\n",
            "324/324 [==============================] - 1s 3ms/step - loss: 2.7455e-04 - acc: 0.9778 - val_loss: 2.2837e-04 - val_acc: 0.9821\n",
            "Epoch 10/30\n",
            "324/324 [==============================] - 1s 3ms/step - loss: 3.2655e-04 - acc: 0.9771 - val_loss: 3.9638e-04 - val_acc: 0.9742\n",
            "Epoch 11/30\n",
            "324/324 [==============================] - 1s 3ms/step - loss: 2.7105e-04 - acc: 0.9785 - val_loss: 2.1106e-04 - val_acc: 0.9855\n",
            "Epoch 12/30\n",
            "324/324 [==============================] - 1s 3ms/step - loss: 2.6673e-04 - acc: 0.9803 - val_loss: 2.9719e-04 - val_acc: 0.9792\n",
            "Epoch 13/30\n",
            "324/324 [==============================] - 1s 2ms/step - loss: 2.8115e-04 - acc: 0.9792 - val_loss: 3.2301e-04 - val_acc: 0.9836\n",
            "Epoch 14/30\n",
            "324/324 [==============================] - 1s 3ms/step - loss: 2.1411e-04 - acc: 0.9817 - val_loss: 3.3877e-04 - val_acc: 0.9753\n",
            "Epoch 15/30\n",
            "324/324 [==============================] - 1s 3ms/step - loss: 2.1686e-04 - acc: 0.9820 - val_loss: 2.0782e-04 - val_acc: 0.9855\n",
            "Epoch 16/30\n",
            "324/324 [==============================] - 1s 3ms/step - loss: 3.0651e-04 - acc: 0.9788 - val_loss: 1.3592e-04 - val_acc: 0.9863\n",
            "Epoch 17/30\n",
            "324/324 [==============================] - 1s 3ms/step - loss: 2.2419e-04 - acc: 0.9822 - val_loss: 1.2722e-04 - val_acc: 0.9878\n",
            "Epoch 18/30\n",
            "324/324 [==============================] - 1s 3ms/step - loss: 2.4668e-04 - acc: 0.9809 - val_loss: 4.8252e-04 - val_acc: 0.9664\n",
            "Epoch 19/30\n",
            "324/324 [==============================] - 1s 3ms/step - loss: 2.4783e-04 - acc: 0.9810 - val_loss: 3.5023e-04 - val_acc: 0.9715\n",
            "Epoch 20/30\n",
            "324/324 [==============================] - 1s 3ms/step - loss: 2.5835e-04 - acc: 0.9798 - val_loss: 8.6343e-04 - val_acc: 0.9578\n",
            "Epoch 21/30\n",
            "324/324 [==============================] - 1s 3ms/step - loss: 2.2821e-04 - acc: 0.9808 - val_loss: 3.9525e-04 - val_acc: 0.9718\n",
            "Epoch 22/30\n",
            "324/324 [==============================] - 1s 2ms/step - loss: 2.2787e-04 - acc: 0.9804 - val_loss: 1.5945e-04 - val_acc: 0.9855\n",
            "Epoch 23/30\n",
            "324/324 [==============================] - 1s 2ms/step - loss: 1.6922e-04 - acc: 0.9845 - val_loss: 1.6869e-04 - val_acc: 0.9853\n",
            "Epoch 24/30\n",
            "324/324 [==============================] - 1s 2ms/step - loss: 1.8705e-04 - acc: 0.9824 - val_loss: 1.4045e-04 - val_acc: 0.9842\n",
            "Epoch 25/30\n",
            "324/324 [==============================] - 1s 3ms/step - loss: 1.8604e-04 - acc: 0.9823 - val_loss: 3.3148e-04 - val_acc: 0.9726\n",
            "Epoch 26/30\n",
            "324/324 [==============================] - 1s 3ms/step - loss: 2.3666e-04 - acc: 0.9808 - val_loss: 5.1042e-04 - val_acc: 0.9763\n",
            "Epoch 27/30\n",
            "324/324 [==============================] - 1s 3ms/step - loss: 2.2565e-04 - acc: 0.9817 - val_loss: 1.4745e-04 - val_acc: 0.9865\n",
            "Epoch 28/30\n",
            "324/324 [==============================] - 1s 3ms/step - loss: 1.4430e-04 - acc: 0.9851 - val_loss: 1.7742e-04 - val_acc: 0.9832\n",
            "Epoch 29/30\n",
            "324/324 [==============================] - 1s 3ms/step - loss: 1.8624e-04 - acc: 0.9814 - val_loss: 8.0502e-05 - val_acc: 0.9886\n",
            "Epoch 30/30\n",
            "324/324 [==============================] - 1s 2ms/step - loss: 2.1620e-04 - acc: 0.9824 - val_loss: 1.4255e-04 - val_acc: 0.9846\n"
          ]
        }
      ]
    },
    {
      "cell_type": "code",
      "source": [
        "plt.plot(history.history['acc'])\n",
        "plt.plot(history.history['val_acc'])\n",
        "plt.title('model accuracy')\n",
        "plt.ylabel('accuracy')\n",
        "plt.xlabel('epoch')\n",
        "plt.show()"
      ],
      "metadata": {
        "colab": {
          "base_uri": "https://localhost:8080/",
          "height": 295
        },
        "id": "HIMZ53Gomji-",
        "outputId": "758ca579-92d7-4e40-de8d-5d6f871917fb"
      },
      "execution_count": null,
      "outputs": [
        {
          "output_type": "display_data",
          "data": {
            "text/plain": [
              "<Figure size 432x288 with 1 Axes>"
            ],
            "image/png": "[encoded data removed]"
          },
          "metadata": {
            "needs_background": "light"
          }
        }
      ]
    },
    {
      "cell_type": "code",
      "source": [
        "score = model.evaluate(x_test,y_test,verbose = 0)\n",
        "print('Sai so kiem tra la:',score[0])\n",
        "print('Do chinh xac kiem tra', score[1])"
      ],
      "metadata": {
        "colab": {
          "base_uri": "https://localhost:8080/"
        },
        "id": "JApfs4AZmnB1",
        "outputId": "49a06a81-29b6-43ab-ac1a-4fa0eee3220d"
      },
      "execution_count": null,
      "outputs": [
        {
          "output_type": "stream",
          "name": "stdout",
          "text": [
            "Sai so kiem tra la: 0.00014279376773629338\n",
            "Do chinh xac kiem tra 0.9791666865348816\n"
          ]
        }
      ]
    },
    {
      "cell_type": "code",
      "source": [
        "Px = (40+90)/180\n",
        "Py = (50+90)/180\n",
        "test = model.predict([[Px,Py]])\n",
        "t1 = test[0][0]*180\n",
        "t2 = test[0][1]*180\n",
        "x_1=50*math.cos(math.radians(t1))+40*math.cos(math.radians(t1+t2))\n",
        "y_1=50*math.sin(math.radians(t1))+40*math.sin(math.radians(t1+t2))\n",
        "print('x = ',x_1,'y = ',y_1)\n",
        "print(t1,t2)"
      ],
      "metadata": {
        "colab": {
          "base_uri": "https://localhost:8080/"
        },
        "id": "1T8zT0pRoGDU",
        "outputId": "231c4edc-5756-4236-a5a0-10b51b68f1b0"
      },
      "execution_count": null,
      "outputs": [
        {
          "output_type": "stream",
          "name": "stdout",
          "text": [
            "x =  40.87254282860448 y =  50.05540889913272\n",
            "12.53353089094162 88.90975713729858\n"
          ]
        }
      ]
    },
    {
      "cell_type": "code",
      "source": [
        "model.save('Robot2bac.h5')"
      ],
      "metadata": {
        "id": "i8mwrlgiwWY-"
      },
      "execution_count": null,
      "outputs": []
    }
  ]
}