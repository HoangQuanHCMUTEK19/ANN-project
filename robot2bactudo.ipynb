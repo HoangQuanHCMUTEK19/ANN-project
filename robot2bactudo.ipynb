{
  "nbformat": 4,
  "nbformat_minor": 0,
  "metadata": {
    "colab": {
      "name": "robot2bactudo.ipynb",
      "provenance": [],
      "collapsed_sections": [],
      "authorship_tag": "ABX9TyOKjtbmEm79c90a3poaO/8+",
      "include_colab_link": true
    },
    "kernelspec": {
      "name": "python3",
      "display_name": "Python 3"
    },
    "language_info": {
      "name": "python"
    }
  },
  "cells": [
    {
      "cell_type": "markdown",
      "metadata": {
        "id": "view-in-github",
        "colab_type": "text"
      },
      "source": [
        "<a href=\"https://colab.research.google.com/github/HoangQuanHCMUTEK19/ANN-project/blob/main/robot2bactudo.ipynb\" target=\"_parent\"><img src=\"https://colab.research.google.com/assets/colab-badge.svg\" alt=\"Open In Colab\"/></a>"
      ]
    },
    {
      "cell_type": "code",
      "execution_count": 29,
      "metadata": {
        "id": "YtfieYYfefH1"
      },
      "outputs": [],
      "source": [
        "import numpy as np\n",
        "import pandas as pd\n",
        "from keras.layers import Dense,Dropout\n",
        "from sklearn.linear_model import Perceptron\n",
        "from sklearn.model_selection import train_test_split\n",
        "from sklearn.metrics import accuracy_score\n",
        "import tensorflow as tf\n",
        "from tensorflow.keras.optimizers import Adam\n",
        "from keras.models import Sequential\n",
        "import matplotlib.pyplot as plt\n",
        "import math\n",
        "import csv\n",
        "import numpy as np"
      ]
    },
    {
      "cell_type": "code",
      "source": [
        "z=[]\n",
        "for a in range(0,180,1):\n",
        "  for b in range(0,180,1):\n",
        "    x=50*math.cos(math.radians(a))+40*math.cos(math.radians(a+b))\n",
        "    y=50*math.sin(math.radians(a))+40*math.sin(math.radians(a+b))\n",
        "    z.append(np.array((a,b,x,y)))"
      ],
      "metadata": {
        "id": "TIntS4Y0fYX1"
      },
      "execution_count": 30,
      "outputs": []
    },
    {
      "cell_type": "code",
      "source": [
        "header = ['goc1', 'goc2', 'x', 'y']\n",
        "\n",
        "with open('data.csv', 'w', encoding='UTF8', newline='') as f:\n",
        "    writer = csv.writer(f)\n",
        "\n",
        "    # write the header\n",
        "    writer.writerow(header)\n",
        "\n",
        "    # write multiple rows\n",
        "    writer.writerows(z)\n"
      ],
      "metadata": {
        "id": "cYIc9fe4fn1E"
      },
      "execution_count": 31,
      "outputs": []
    },
    {
      "cell_type": "code",
      "source": [
        "data = pd.read_csv('data.csv')\n",
        "print(data.shape)\n",
        "numpy_dataset = data.values\n",
        "y=numpy_dataset[:,:2]/180.0\n",
        "x=(numpy_dataset[:,2:]+90.0)/180.0\n",
        "x_train,x_test,y_train,y_test = train_test_split(x,y,test_size=0.20)\n"
      ],
      "metadata": {
        "colab": {
          "base_uri": "https://localhost:8080/"
        },
        "id": "lAK2dslFkkMY",
        "outputId": "e5090987-f8b1-4149-bd1a-e528e5803dfd"
      },
      "execution_count": 40,
      "outputs": [
        {
          "output_type": "stream",
          "name": "stdout",
          "text": [
            "(32400, 4)\n"
          ]
        }
      ]
    },
    {
      "cell_type": "code",
      "source": [
        "model = Sequential() \n",
        "model.add(Dense(128, activation='relu', input_shape = (2,))) \n",
        "model.add(Dense(64, activation='relu'))\n",
        "model.add(Dense(32, activation='relu'))\n",
        "model.add(Dense(32, activation='relu'))\n",
        "model.add(Dense(2))\n",
        "model.summary() \n"
      ],
      "metadata": {
        "id": "zWj5DuyHklOf",
        "colab": {
          "base_uri": "https://localhost:8080/"
        },
        "outputId": "289cfe1c-4213-410b-92c6-1a9002e0ebfb"
      },
      "execution_count": 41,
      "outputs": [
        {
          "output_type": "stream",
          "name": "stdout",
          "text": [
            "Model: \"sequential_5\"\n",
            "_________________________________________________________________\n",
            " Layer (type)                Output Shape              Param #   \n",
            "=================================================================\n",
            " dense_25 (Dense)            (None, 128)               384       \n",
            "                                                                 \n",
            " dense_26 (Dense)            (None, 64)                8256      \n",
            "                                                                 \n",
            " dense_27 (Dense)            (None, 32)                2080      \n",
            "                                                                 \n",
            " dense_28 (Dense)            (None, 32)                1056      \n",
            "                                                                 \n",
            " dense_29 (Dense)            (None, 2)                 66        \n",
            "                                                                 \n",
            "=================================================================\n",
            "Total params: 11,842\n",
            "Trainable params: 11,842\n",
            "Non-trainable params: 0\n",
            "_________________________________________________________________\n"
          ]
        }
      ]
    },
    {
      "cell_type": "code",
      "source": [
        "model.compile(loss='mse', optimizer =Adam(), metrics=['acc'])\n",
        "history = model.fit(x_train, y_train, batch_size = 64, epochs = 30, validation_split = 0.2)"
      ],
      "metadata": {
        "colab": {
          "base_uri": "https://localhost:8080/"
        },
        "id": "Xr8mFg8tumiI",
        "outputId": "9a23517c-6510-4ad8-8bc5-12317b703ad2"
      },
      "execution_count": 42,
      "outputs": [
        {
          "output_type": "stream",
          "name": "stdout",
          "text": [
            "Epoch 1/30\n",
            "324/324 [==============================] - 1s 3ms/step - loss: 0.0419 - acc: 0.8229 - val_loss: 0.0031 - val_acc: 0.9298\n",
            "Epoch 2/30\n",
            "324/324 [==============================] - 1s 3ms/step - loss: 0.0016 - acc: 0.9558 - val_loss: 9.1280e-04 - val_acc: 0.9680\n",
            "Epoch 3/30\n",
            "324/324 [==============================] - 1s 3ms/step - loss: 8.0991e-04 - acc: 0.9666 - val_loss: 6.2436e-04 - val_acc: 0.9693\n",
            "Epoch 4/30\n",
            "324/324 [==============================] - 1s 3ms/step - loss: 5.2085e-04 - acc: 0.9735 - val_loss: 4.9826e-04 - val_acc: 0.9730\n",
            "Epoch 5/30\n",
            "324/324 [==============================] - 1s 3ms/step - loss: 4.6938e-04 - acc: 0.9750 - val_loss: 4.2496e-04 - val_acc: 0.9720\n",
            "Epoch 6/30\n",
            "324/324 [==============================] - 1s 3ms/step - loss: 3.9104e-04 - acc: 0.9752 - val_loss: 2.7727e-04 - val_acc: 0.9823\n",
            "Epoch 7/30\n",
            "324/324 [==============================] - 1s 3ms/step - loss: 2.9655e-04 - acc: 0.9806 - val_loss: 2.3836e-04 - val_acc: 0.9813\n",
            "Epoch 8/30\n",
            "324/324 [==============================] - 1s 3ms/step - loss: 3.1193e-04 - acc: 0.9779 - val_loss: 2.0190e-04 - val_acc: 0.9855\n",
            "Epoch 9/30\n",
            "324/324 [==============================] - 1s 3ms/step - loss: 2.9827e-04 - acc: 0.9797 - val_loss: 5.2740e-04 - val_acc: 0.9709\n",
            "Epoch 10/30\n",
            "324/324 [==============================] - 1s 3ms/step - loss: 2.7844e-04 - acc: 0.9788 - val_loss: 4.0513e-04 - val_acc: 0.9703\n",
            "Epoch 11/30\n",
            "324/324 [==============================] - 1s 3ms/step - loss: 2.7905e-04 - acc: 0.9786 - val_loss: 1.7031e-04 - val_acc: 0.9836\n",
            "Epoch 12/30\n",
            "324/324 [==============================] - 1s 3ms/step - loss: 2.4551e-04 - acc: 0.9802 - val_loss: 1.7402e-04 - val_acc: 0.9865\n",
            "Epoch 13/30\n",
            "324/324 [==============================] - 1s 3ms/step - loss: 2.4215e-04 - acc: 0.9799 - val_loss: 2.2761e-04 - val_acc: 0.9853\n",
            "Epoch 14/30\n",
            "324/324 [==============================] - 1s 3ms/step - loss: 2.7338e-04 - acc: 0.9790 - val_loss: 1.6997e-04 - val_acc: 0.9880\n",
            "Epoch 15/30\n",
            "324/324 [==============================] - 1s 3ms/step - loss: 2.3334e-04 - acc: 0.9822 - val_loss: 1.6069e-04 - val_acc: 0.9834\n",
            "Epoch 16/30\n",
            "324/324 [==============================] - 1s 3ms/step - loss: 2.2719e-04 - acc: 0.9810 - val_loss: 1.3510e-04 - val_acc: 0.9834\n",
            "Epoch 17/30\n",
            "324/324 [==============================] - 1s 2ms/step - loss: 2.4040e-04 - acc: 0.9825 - val_loss: 2.6283e-04 - val_acc: 0.9740\n",
            "Epoch 18/30\n",
            "324/324 [==============================] - 1s 3ms/step - loss: 2.3553e-04 - acc: 0.9805 - val_loss: 2.4690e-04 - val_acc: 0.9757\n",
            "Epoch 19/30\n",
            "324/324 [==============================] - 1s 3ms/step - loss: 2.0086e-04 - acc: 0.9835 - val_loss: 2.8025e-04 - val_acc: 0.9772\n",
            "Epoch 20/30\n",
            "324/324 [==============================] - 1s 3ms/step - loss: 2.3310e-04 - acc: 0.9806 - val_loss: 1.1770e-04 - val_acc: 0.9886\n",
            "Epoch 21/30\n",
            "324/324 [==============================] - 1s 3ms/step - loss: 1.8154e-04 - acc: 0.9835 - val_loss: 1.2947e-04 - val_acc: 0.9905\n",
            "Epoch 22/30\n",
            "324/324 [==============================] - 1s 3ms/step - loss: 1.8348e-04 - acc: 0.9836 - val_loss: 1.9919e-04 - val_acc: 0.9815\n",
            "Epoch 23/30\n",
            "324/324 [==============================] - 1s 3ms/step - loss: 1.6929e-04 - acc: 0.9839 - val_loss: 3.2445e-04 - val_acc: 0.9745\n",
            "Epoch 24/30\n",
            "324/324 [==============================] - 1s 3ms/step - loss: 1.7036e-04 - acc: 0.9842 - val_loss: 9.7845e-05 - val_acc: 0.9848\n",
            "Epoch 25/30\n",
            "324/324 [==============================] - 1s 3ms/step - loss: 2.7576e-04 - acc: 0.9800 - val_loss: 5.6118e-04 - val_acc: 0.9635\n",
            "Epoch 26/30\n",
            "324/324 [==============================] - 1s 3ms/step - loss: 1.7404e-04 - acc: 0.9843 - val_loss: 2.4899e-04 - val_acc: 0.9788\n",
            "Epoch 27/30\n",
            "324/324 [==============================] - 1s 3ms/step - loss: 2.0617e-04 - acc: 0.9851 - val_loss: 1.6116e-04 - val_acc: 0.9846\n",
            "Epoch 28/30\n",
            "324/324 [==============================] - 1s 3ms/step - loss: 1.7801e-04 - acc: 0.9851 - val_loss: 1.4843e-04 - val_acc: 0.9882\n",
            "Epoch 29/30\n",
            "324/324 [==============================] - 1s 3ms/step - loss: 2.5085e-04 - acc: 0.9815 - val_loss: 8.6442e-05 - val_acc: 0.9882\n",
            "Epoch 30/30\n",
            "324/324 [==============================] - 1s 3ms/step - loss: 2.0253e-04 - acc: 0.9844 - val_loss: 1.2114e-04 - val_acc: 0.9828\n"
          ]
        }
      ]
    },
    {
      "cell_type": "code",
      "source": [
        "plt.plot(history.history['acc'])\n",
        "plt.plot(history.history['val_acc'])\n",
        "plt.title('model accuracy')\n",
        "plt.ylabel('accuracy')\n",
        "plt.xlabel('epoch')\n",
        "plt.legend(['train','validation'])\n",
        "plt.show()"
      ],
      "metadata": {
        "colab": {
          "base_uri": "https://localhost:8080/",
          "height": 295
        },
        "id": "HIMZ53Gomji-",
        "outputId": "595c5024-d21d-42dc-ef7f-21eddce1bf67"
      },
      "execution_count": 43,
      "outputs": [
        {
          "output_type": "display_data",
          "data": {
            "text/plain": [
              "<Figure size 432x288 with 1 Axes>"
            ],
            "image/png": "[encoded data removed]"
          },
          "metadata": {
            "needs_background": "light"
          }
        }
      ]
    },
    {
      "cell_type": "code",
      "source": [
        "score = model.evaluate(x_test,y_test,verbose = 0)\n",
        "print('Sai so kiem tra la:',score[0])\n",
        "print('Do chinh xac kiem tra', score[1])"
      ],
      "metadata": {
        "colab": {
          "base_uri": "https://localhost:8080/"
        },
        "id": "JApfs4AZmnB1",
        "outputId": "fbd324a3-2228-484e-b708-75a66d563832"
      },
      "execution_count": 44,
      "outputs": [
        {
          "output_type": "stream",
          "name": "stdout",
          "text": [
            "Sai so kiem tra la: 0.00012194012379040942\n",
            "Do chinh xac kiem tra 0.9780864119529724\n"
          ]
        }
      ]
    },
    {
      "cell_type": "code",
      "source": [
        "Px = (40+90)/180\n",
        "Py = (50+90)/180\n",
        "test = model.predict([[Px,Py]])\n",
        "t1 = test[0][0]*180\n",
        "t2 = test[0][1]*180\n",
        "x_1=50*math.cos(math.radians(t1))+40*math.cos(math.radians(t1+t2))\n",
        "y_1=50*math.sin(math.radians(t1))+40*math.sin(math.radians(t1+t2))\n",
        "print('x = ',x_1,'y = ',y_1)\n",
        "print(t1,t2)"
      ],
      "metadata": {
        "colab": {
          "base_uri": "https://localhost:8080/"
        },
        "id": "1T8zT0pRoGDU",
        "outputId": "71b63597-6ea4-45de-b2af-f9bb5745d959"
      },
      "execution_count": 45,
      "outputs": [
        {
          "output_type": "stream",
          "name": "stdout",
          "text": [
            "x =  40.41590766513066 y =  49.7251931033674\n",
            "12.270258665084839 89.9134773015976\n"
          ]
        }
      ]
    },
    {
      "cell_type": "code",
      "source": [
        "model.save('Robot2bac.h5')"
      ],
      "metadata": {
        "id": "i8mwrlgiwWY-"
      },
      "execution_count": 46,
      "outputs": []
    }
  ]
}